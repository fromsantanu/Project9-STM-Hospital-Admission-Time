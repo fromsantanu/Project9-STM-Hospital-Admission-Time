{
 "cells": [
  {
   "cell_type": "markdown",
   "id": "1430bedc",
   "metadata": {},
   "source": [
    "# Hospital Admission Time"
   ]
  },
  {
   "cell_type": "markdown",
   "id": "1ac1b63a",
   "metadata": {},
   "source": [
    "To analyze the distribution of hospital admission times in a healthcare facility to understand the spread and central tendency of the data. \n",
    "\n",
    "**Here we want to know**\n",
    "- How long it takes to admit majority of patients after they arrive at the hospital?\n",
    "- On average, what is the typical amount of time taken to admit them?\n",
    "- How much time a complicated case may take to admit?"
   ]
  },
  {
   "cell_type": "code",
   "execution_count": 1,
   "id": "d107fc71",
   "metadata": {},
   "outputs": [
    {
     "data": {
      "text/html": [
       "<div>\n",
       "<style scoped>\n",
       "    .dataframe tbody tr th:only-of-type {\n",
       "        vertical-align: middle;\n",
       "    }\n",
       "\n",
       "    .dataframe tbody tr th {\n",
       "        vertical-align: top;\n",
       "    }\n",
       "\n",
       "    .dataframe thead th {\n",
       "        text-align: right;\n",
       "    }\n",
       "</style>\n",
       "<table border=\"1\" class=\"dataframe\">\n",
       "  <thead>\n",
       "    <tr style=\"text-align: right;\">\n",
       "      <th></th>\n",
       "      <th>Admission Time (hours)</th>\n",
       "    </tr>\n",
       "  </thead>\n",
       "  <tbody>\n",
       "    <tr>\n",
       "      <th>0</th>\n",
       "      <td>5.993428</td>\n",
       "    </tr>\n",
       "    <tr>\n",
       "      <th>1</th>\n",
       "      <td>4.723471</td>\n",
       "    </tr>\n",
       "    <tr>\n",
       "      <th>2</th>\n",
       "      <td>6.295377</td>\n",
       "    </tr>\n",
       "    <tr>\n",
       "      <th>3</th>\n",
       "      <td>8.046060</td>\n",
       "    </tr>\n",
       "    <tr>\n",
       "      <th>4</th>\n",
       "      <td>4.531693</td>\n",
       "    </tr>\n",
       "  </tbody>\n",
       "</table>\n",
       "</div>"
      ],
      "text/plain": [
       "   Admission Time (hours)\n",
       "0                5.993428\n",
       "1                4.723471\n",
       "2                6.295377\n",
       "3                8.046060\n",
       "4                4.531693"
      ]
     },
     "execution_count": 1,
     "metadata": {},
     "output_type": "execute_result"
    }
   ],
   "source": [
    "import numpy as np\n",
    "import pandas as pd\n",
    "\n",
    "# Generating sample data\n",
    "np.random.seed(42)\n",
    "admission_times = np.random.normal(loc=5, scale=2, size=100)\n",
    "admission_times = np.clip(admission_times, 0, None)  # No negative times\n",
    "\n",
    "# Creating a DataFrame\n",
    "data = pd.DataFrame({'Admission Time (hours)': admission_times})\n",
    "\n",
    "data.head()\n"
   ]
  },
  {
   "cell_type": "code",
   "execution_count": 2,
   "id": "8b1ad29c",
   "metadata": {},
   "outputs": [
    {
     "data": {
      "image/png": "[encoded data removed]",
      "text/plain": [
       "<Figure size 1000x600 with 1 Axes>"
      ]
     },
     "metadata": {},
     "output_type": "display_data"
    }
   ],
   "source": [
    "import numpy as np\n",
    "import pandas as pd\n",
    "import seaborn as sns\n",
    "import matplotlib.pyplot as plt\n",
    "\n",
    "# Generating sample data\n",
    "np.random.seed(42)\n",
    "admission_times = np.random.normal(loc=5, scale=2, size=100)\n",
    "admission_times = np.clip(admission_times, 0, None)  # No negative times\n",
    "\n",
    "# Creating a DataFrame\n",
    "data = pd.DataFrame({'Admission Time (hours)': admission_times})\n",
    "\n",
    "# Set the style of the visualization\n",
    "sns.set(style=\"whitegrid\")\n",
    "\n",
    "# Create the box and whisker plot\n",
    "plt.figure(figsize=(10, 6))\n",
    "sns.boxplot(data=data, x='Admission Time (hours)')\n",
    "\n",
    "# Add titles and labels\n",
    "plt.title('Box and Whisker Plot of Hospital Admission Times')\n",
    "plt.xlabel('Admission Time (hours)')\n",
    "plt.show()\n"
   ]
  },
  {
   "cell_type": "markdown",
   "id": "9dddf2f6",
   "metadata": {},
   "source": [
    "**And Here is the conclusion derived from above chart** \n",
    "\n",
    "- **Most Patients' Admission Times:** The majority of patients are admitted within 3.5 to 6.5 hours after arriving at the hospital.\n",
    "\n",
    "- **Typical Admission Time:** On average, patients are admitted in about 5 hours.\n",
    "\n",
    "- **Range of Admission Times:** While most patients are admitted within 0.5 to 9 hours, a few patients experience longer admission times beyond this range.\n",
    "\n",
    "- **Outliers:** There are some exceptional cases where patients take significantly longer to be admitted, but these are not common."
   ]
  },
  {
   "cell_type": "code",
   "execution_count": null,
   "id": "5ba09b7b",
   "metadata": {},
   "outputs": [],
   "source": []
  }
 ],
 "metadata": {
  "kernelspec": {
   "display_name": "Python 3 (ipykernel)",
   "language": "python",
   "name": "python3"
  },
  "language_info": {
   "codemirror_mode": {
    "name": "ipython",
    "version": 3
   },
   "file_extension": ".py",
   "mimetype": "text/x-python",
   "name": "python",
   "nbconvert_exporter": "python",
   "pygments_lexer": "ipython3",
   "version": "3.10.14"
  }
 },
 "nbformat": 4,
 "nbformat_minor": 5
}
